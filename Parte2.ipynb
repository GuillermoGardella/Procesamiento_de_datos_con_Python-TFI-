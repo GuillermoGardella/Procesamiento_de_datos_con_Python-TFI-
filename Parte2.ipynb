{
 "cells": [
  {
   "cell_type": "code",
   "execution_count": null,
   "metadata": {},
   "outputs": [],
   "source": [
    "import pandas as pd\n",
    "import numpy as np\n",
    "import matplotlib.pyplot as plt\n",
    "\n",
    "df = pd.read_csv(\"./Articulos_en_horno_10.csv\") "
   ]
  },
  {
   "cell_type": "code",
   "execution_count": 13,
   "metadata": {},
   "outputs": [
    {
     "name": "stdout",
     "output_type": "stream",
     "text": [
      "  fecha;Nº Art.;Nombre;Peso;Vel;Anillo;Bombeo;Corte;Proceso;Secciones;Palanca;Aguja;\n",
      "0  30/8/2021;99043;POTE IBERIA 200 CC;105;106;1 3...                                \n",
      "1  31/8/2021;83711;MINI DULCE HEXAGONAL 40 CC;60;...                                \n",
      "2  3/9/2021;81028;MINI DULCE REDONDO 40 CC;60;159...                                \n",
      "3  6/9/2021;81029;MINI DULCE REDONDO 28 CC;52;158...                                \n",
      "4  7/9/2021;82026;JÚPITER 120 CC;123;100;1 3/8;7 ...                                \n"
     ]
    }
   ],
   "source": [
    "# Muestra las primeras filas del DataFrame\n",
    "print(df.head())\n"
   ]
  },
  {
   "cell_type": "code",
   "execution_count": 10,
   "metadata": {},
   "outputs": [
    {
     "name": "stdout",
     "output_type": "stream",
     "text": [
      "<class 'pandas.core.frame.DataFrame'>\n",
      "RangeIndex: 205 entries, 0 to 204\n",
      "Data columns (total 1 columns):\n",
      " #   Column                                                                              Non-Null Count  Dtype \n",
      "---  ------                                                                              --------------  ----- \n",
      " 0   fecha;Nº Art.;Nombre;Peso;Vel;Anillo;Bombeo;Corte;Proceso;Secciones;Palanca;Aguja;  205 non-null    object\n",
      "dtypes: object(1)\n",
      "memory usage: 1.7+ KB\n",
      "None\n"
     ]
    }
   ],
   "source": [
    "# Muestra información sobre las columnas y tipos de datos\n",
    "print(df.info())"
   ]
  },
  {
   "cell_type": "code",
   "execution_count": 11,
   "metadata": {},
   "outputs": [
    {
     "name": "stdout",
     "output_type": "stream",
     "text": [
      "       fecha;Nº Art.;Nombre;Peso;Vel;Anillo;Bombeo;Corte;Proceso;Secciones;Palanca;Aguja;\n",
      "count                                                 205                                \n",
      "unique                                                205                                \n",
      "top     30/8/2021;99043;POTE IBERIA 200 CC;105;106;1 3...                                \n",
      "freq                                                    1                                \n"
     ]
    }
   ],
   "source": [
    "# Calcula estadísticas descriptivas de las columnas numéricas\n",
    "print(df.describe())"
   ]
  }
 ],
 "metadata": {
  "kernelspec": {
   "display_name": "base",
   "language": "python",
   "name": "python3"
  },
  "language_info": {
   "codemirror_mode": {
    "name": "ipython",
    "version": 3
   },
   "file_extension": ".py",
   "mimetype": "text/x-python",
   "name": "python",
   "nbconvert_exporter": "python",
   "pygments_lexer": "ipython3",
   "version": "3.11.3"
  },
  "orig_nbformat": 4
 },
 "nbformat": 4,
 "nbformat_minor": 2
}
